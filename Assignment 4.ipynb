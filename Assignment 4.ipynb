{
 "cells": [
  {
   "cell_type": "markdown",
   "metadata": {},
   "source": [
    "# 1.1 Write a Python Program(with class concepts) to find the area of the triangle using the below formula.\n",
    "# area = (s*(s-a)*(s-b)*(s-c)) ** 0.5\n",
    "# Function to take the length of the sides of triangle from user should be defined in the parent class and function to calculate the area should be defined in subclass"
   ]
  },
  {
   "cell_type": "code",
   "execution_count": 1,
   "metadata": {},
   "outputs": [
    {
     "name": "stdout",
     "output_type": "stream",
     "text": [
      "Enter the value of a = 3\n",
      "Enter the value of b = 4\n",
      "Enter the value of c= 5\n",
      "area  of triangle with sides 3,4,5 is =  6.0\n"
     ]
    }
   ],
   "source": [
    "class Area:\n",
    "    def __init__(self, a, b, c):\n",
    "        self.a = float(a)\n",
    "        self.b = float(b)\n",
    "        self.c = float(c)\n",
    "        \n",
    "a=input(\"Enter the value of a = \")\n",
    "\n",
    "b=input(\"Enter the value of b = \")\n",
    "\n",
    "c=input(\"Enter the value of c= \")\n",
    "\n",
    "class Area_calculate(Area):\n",
    "    def __inti__(self, a, b, c):\n",
    "        super().__init__(a, b, c)\n",
    "        \n",
    "    def cal_area(self):\n",
    "        s = (self.a + self.b + self.c) / 2\n",
    "        return (s*(s-self.a)*(s-self.b)*(s-self.c)) ** 0.5        \n",
    "\n",
    "t = Area_calculate(a,b,c)\n",
    "print(f\"area  of triangle with sides {a},{b},{c} is = \",t.cal_area())"
   ]
  },
  {
   "cell_type": "markdown",
   "metadata": {},
   "source": [
    "# 1.2 Write a function filter_long_words() that takes a list of words and an integer n and returns the list of words that are longer than n."
   ]
  },
  {
   "cell_type": "code",
   "execution_count": 2,
   "metadata": {},
   "outputs": [
    {
     "name": "stdout",
     "output_type": "stream",
     "text": [
      "['Pulchritudinous', 'Consanguineous', 'Psychotomimetic', 'Trichotillomania', 'Omphaloskepsis']\n"
     ]
    }
   ],
   "source": [
    "def filter_long_words(List,Integer):\n",
    " \n",
    "    listOfWords = []\n",
    " \n",
    "    for i in range(len(List)):\n",
    "        if len(List[i]) > Integer:\n",
    "            listOfWords.append(List[i])\n",
    " \n",
    "    return listOfWords\n",
    " \n",
    "print(filter_long_words([\"Pulchritudinous\",\"beautiful\",\"Consanguineous\",\"descended\", \"Psychotomimetic\",\n",
    "                         \"involving\",\"Trichotillomania\",\"abnormal \",\"Omphaloskepsis\",\"inertia\"],10))"
   ]
  },
  {
   "cell_type": "markdown",
   "metadata": {},
   "source": [
    "# 2.1 Write a Python program using function concept that maps list of words into a list of integers representing the lengths of the corresponding words."
   ]
  },
  {
   "cell_type": "code",
   "execution_count": 3,
   "metadata": {},
   "outputs": [
    {
     "name": "stdout",
     "output_type": "stream",
     "text": [
      "Please enter Words : cd\n",
      "Length of Words are : [2]\n"
     ]
    }
   ],
   "source": [
    "def map_Words_to_Length(List):\n",
    "    return list(map(len, List))\n",
    "\n",
    "word_List=list(input(\"Please enter Words : \").split(\",\"))\n",
    "List=[x.strip() for x in word_List]\n",
    "Words_lengths=map_Words_to_Length(List)\n",
    "\n",
    "print(\"Length of Words are :\",Words_lengths )"
   ]
  },
  {
   "cell_type": "markdown",
   "metadata": {},
   "source": [
    "# 2.2 Write a Python function which takes a character (i.e. a string of length 1) and returns True if it is a vowel, False otherwise."
   ]
  },
  {
   "cell_type": "code",
   "execution_count": 4,
   "metadata": {},
   "outputs": [
    {
     "name": "stdout",
     "output_type": "stream",
     "text": [
      "Enter a character: I\n"
     ]
    },
    {
     "data": {
      "text/plain": [
       "True"
      ]
     },
     "execution_count": 4,
     "metadata": {},
     "output_type": "execute_result"
    }
   ],
   "source": [
    "def vowel_check(i):\n",
    "    if i in ('a', 'e', 'i', 'o', 'u' and 'A','E','I','O','U'):\n",
    "        return True\n",
    "    else:\n",
    "        return False\n",
    "\n",
    "letter = input(\"Enter a character: \")\n",
    "\n",
    "vowel_check(letter)"
   ]
  }
 ],
 "metadata": {
  "kernelspec": {
   "display_name": "Python 3",
   "language": "python",
   "name": "python3"
  },
  "language_info": {
   "codemirror_mode": {
    "name": "ipython",
    "version": 3
   },
   "file_extension": ".py",
   "mimetype": "text/x-python",
   "name": "python",
   "nbconvert_exporter": "python",
   "pygments_lexer": "ipython3",
   "version": "3.8.5"
  }
 },
 "nbformat": 4,
 "nbformat_minor": 4
}
